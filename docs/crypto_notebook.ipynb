{
 "metadata": {
  "language_info": {
   "codemirror_mode": {
    "name": "ipython",
    "version": 3
   },
   "file_extension": ".py",
   "mimetype": "text/x-python",
   "name": "python",
   "nbconvert_exporter": "python",
   "pygments_lexer": "ipython3",
   "version": "3.8.5-final"
  },
  "orig_nbformat": 2,
  "kernelspec": {
   "name": "python3",
   "display_name": "Python 3",
   "language": "python"
  }
 },
 "nbformat": 4,
 "nbformat_minor": 2,
 "cells": [
  {
   "cell_type": "code",
   "execution_count": null,
   "metadata": {},
   "outputs": [],
   "source": [
    "# preparations\n",
    "\n",
    "from pathlib import Path\n",
    "from dotenv import load_dotenv\n",
    "\n",
    "load_dotenv(Path('..') / '.doc.env')\n",
    "\n",
    "import os\n",
    "user_email = os.environ['USERNAME']\n",
    "password = os.environ['PASSWORD']\n",
    "\n",
    "BASE_URL = 'https://vault.bitwarden.com/api'\n",
    "IDENTITY_URL = 'https://vault.bitwarden.com/identity'\n"
   ]
  },
  {
   "source": [
    "### First step requires us to get the number of iterations and the type for the key derivation algorithm"
   ],
   "cell_type": "markdown",
   "metadata": {}
  },
  {
   "cell_type": "code",
   "execution_count": null,
   "metadata": {},
   "outputs": [],
   "source": [
    "import requests\n",
    "\n",
    "prelogin_url = f'{BASE_URL}/accounts/prelogin'\n",
    "\n",
    "response = requests.post(prelogin_url, json={\n",
    "    'email': user_email\n",
    "})\n",
    "json_response = response.json()\n",
    "\n",
    "kdf_type, iterations = json_response['Kdf'], json_response['KdfIterations']\n",
    "\n",
    "print(iterations)"
   ]
  },
  {
   "source": [
    "### The next step requires hashing the email and password"
   ],
   "cell_type": "markdown",
   "metadata": {}
  },
  {
   "cell_type": "code",
   "execution_count": null,
   "metadata": {},
   "outputs": [],
   "source": [
    "import hashlib\n",
    "\n",
    "def get_key(user_email, password, iterations):\n",
    "    # apply KDF for N interations over 'password' using 'email' as salt\n",
    "    e_password = hashlib.pbkdf2_hmac(\n",
    "        hash_name='sha256',\n",
    "        password=password.encode(),\n",
    "        salt=user_email.lower().encode(),\n",
    "        iterations=iterations,\n",
    "        dklen=256/8)\n",
    "    \n",
    "    # apply KDF for 1 iteration over 'e_password' using 'password' as salt\n",
    "    hash_password = hashlib.pbkdf2_hmac(\n",
    "        hash_name='sha256',\n",
    "        password=e_password,\n",
    "        salt=password.encode(),\n",
    "        iterations=1,\n",
    "        dklen=256/8\n",
    "    )\n",
    "\n",
    "    return e_password, hash_password\n",
    "\n",
    "enc_password, hash_password = get_key(user_email, password, iterations)"
   ]
  },
  {
   "source": [
    "### Next is the actual login request"
   ],
   "cell_type": "markdown",
   "metadata": {}
  },
  {
   "cell_type": "code",
   "execution_count": null,
   "metadata": {},
   "outputs": [],
   "source": [
    "# replace this with new 2fa code:\n",
    "token_code = ''"
   ]
  },
  {
   "cell_type": "code",
   "execution_count": null,
   "metadata": {},
   "outputs": [],
   "source": [
    "import base64\n",
    "\n",
    "# need to base64 encode it so it can be transmitted in a json\n",
    "hash_password = base64.b64encode(hash_password)\n",
    "\n",
    "payload = {\n",
    "    'grant_type': 'password',\n",
    "    'username': user_email,\n",
    "    'password': hash_password.decode('utf-8'),\n",
    "    'scope': 'api offline_access',\n",
    "    'client_id': 'web',\n",
    "    'deviceType': 10,\n",
    "    'deviceIdentifier': '403374ad-ab7b-441c-a74d-976412e10d3c',\n",
    "    'deviceName': 'firefox',\n",
    "    'twoFactorToken': token_code,\n",
    "    'twoFactorProvider': 0,  # 1 for email - 5 for .. dunno\n",
    "    'twoFactorRemember': 1  # set to 1 to remember two factor\n",
    "}\n",
    "\n",
    "login_response = requests.post(f'{IDENTITY_URL}/connect/token', data=payload)\n",
    "\n",
    "print(login_response.status_code)"
   ]
  },
  {
   "cell_type": "code",
   "execution_count": null,
   "metadata": {},
   "outputs": [],
   "source": [
    "from dataclasses import dataclass\n",
    "\n",
    "@dataclass\n",
    "class CipherString:\n",
    "    enc_type: int\n",
    "    iv: bytes\n",
    "    data: bytes\n",
    "    mac: bytes\n",
    "\n",
    "    @classmethod\n",
    "    def from_string(cls, s):\n",
    "        enc_type, remain = s.split('.')\n",
    "        if enc_type != '2':  # AesCbc256_HmacSha256_B64\n",
    "            # note: we only have AesCbc256_HmacSha256_B64 for now\n",
    "            raise Exception('Enc type not implemented.')\n",
    "\n",
    "        iv, data, mac = [base64.b64decode(v) for v in remain.split('|')]\n",
    "\n",
    "        return cls(enc_type=enc_type, iv=iv, mac=mac, data=data)\n",
    "\n",
    "key_enc_string = CipherString.from_string(login_response.json()['Key'])"
   ]
  },
  {
   "source": [
    "### Next is the master key expansion"
   ],
   "cell_type": "markdown",
   "metadata": {}
  },
  {
   "cell_type": "code",
   "execution_count": null,
   "metadata": {},
   "outputs": [],
   "source": [
    "import struct\n",
    "import hmac\n",
    "\n",
    "# taken and adapted from: https://github.com/Legrandin/pycryptodome/blob/28c3af46ad7bd525f981c1f7e2b68d744bb953f5/lib/Crypto/Protocol/KDF.py#L275-L333\n",
    "# HKDF consists of two steps, extract and expand. Bitwarden uses expand only, after PBKDF2\n",
    "def hkdf_expand(master, key_len, hashmod, context=None):\n",
    "    # Step 2: expand\n",
    "    t = [ b'' ]\n",
    "    n = 1\n",
    "    t_len = 0\n",
    "    while t_len < key_len:  # does only one cycle at size 32\n",
    "        h_mac = hmac.new(master, t[-1] + context + struct.pack('B', n), digestmod=hashmod)\n",
    "\n",
    "        t.append(h_mac.digest())\n",
    "        t_len += 256/8  # digest_size\n",
    "        n += 1\n",
    "\n",
    "    return b''.join(t)[:key_len]\n",
    "\n",
    "\n",
    "def expand_key(key):\n",
    "\n",
    "    enc_k = hkdf_expand(\n",
    "        master=key,\n",
    "        key_len=32,\n",
    "        hashmod='sha256',\n",
    "        context=b'enc')\n",
    "\n",
    "    mac_k = hkdf_expand(\n",
    "        master=key,\n",
    "        key_len=32,\n",
    "        hashmod='sha256',\n",
    "        context=b'mac')\n",
    "\n",
    "    return enc_k, mac_k\n",
    "\n",
    "enc_key, mac_key = expand_key(enc_password)"
   ]
  },
  {
   "source": [
    "### Optional step: check mac on the master key to determine if it can be decrypted correctly"
   ],
   "cell_type": "markdown",
   "metadata": {}
  },
  {
   "cell_type": "code",
   "execution_count": null,
   "metadata": {},
   "outputs": [],
   "source": [
    "def check_macs(key_mac, c_string):\n",
    "    comp_mac = hmac.digest(key_mac, c_string.iv + c_string.data, 'sha256')\n",
    "\n",
    "    hmac1 = hmac.digest(key_mac, c_string.mac, 'sha256')\n",
    "    hmac2 = hmac.digest(key_mac, comp_mac, 'sha256')\n",
    "\n",
    "    return hmac1 == hmac2\n",
    "\n",
    "print(check_macs(mac_key, key_enc_string))"
   ]
  },
  {
   "source": [
    "### Decrypt the master key using the user key"
   ],
   "cell_type": "markdown",
   "metadata": {}
  },
  {
   "cell_type": "code",
   "execution_count": null,
   "metadata": {},
   "outputs": [],
   "source": [
    "from Crypto.Cipher import AES\n",
    "from Crypto.Util.Padding import unpad\n",
    "\n",
    "\n",
    "def decrypt_aes(key, iv, data):\n",
    "    cipher = AES.new(key, AES.MODE_CBC, IV=iv)\n",
    "    plain = cipher.decrypt(data)\n",
    "    return unpad(plain, AES.block_size)\n",
    "\n",
    "p_key = decrypt_aes(enc_key, key_enc_string.iv, key_enc_string.data)\n",
    "p_key_enc = p_key[:32]\n",
    "p_key_mac = p_key[32:64]"
   ]
  },
  {
   "source": [
    "### Check mac is valid for the encrypted string"
   ],
   "cell_type": "markdown",
   "metadata": {}
  },
  {
   "cell_type": "code",
   "execution_count": null,
   "metadata": {},
   "outputs": [],
   "source": [
    "enc_string = 'ENTER YOUR ENCRYPTED STRING HERE'\n",
    "enc_string = CipherString.from_string(enc_string)\n",
    "\n",
    "print(check_macs(p_key_mac, enc_string))"
   ]
  },
  {
   "source": [
    "### Finally, decrypt the string itself"
   ],
   "cell_type": "markdown",
   "metadata": {}
  },
  {
   "cell_type": "code",
   "execution_count": null,
   "metadata": {},
   "outputs": [],
   "source": [
    "decrypt_aes(p_key_enc, enc_string.iv, enc_string.data)"
   ]
  }
 ]
}